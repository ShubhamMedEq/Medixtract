{
 "cells": [
  {
   "cell_type": "code",
   "execution_count": 2,
   "metadata": {},
   "outputs": [],
   "source": [
    "import fitz\n",
    "import re\n",
    "from datetime import datetime\n",
    "import pandas as pd\n"
   ]
  },
  {
   "cell_type": "code",
   "execution_count": 3,
   "metadata": {},
   "outputs": [],
   "source": [
    "\n",
    "# Load the Excel file (replace with the actual file path)\n",
    "file_path = 'Mario_Gutierrez_BR.xlsx'\n",
    "sheet_name = 'CPT DESC'  # Your sheet name\n",
    "\n",
    "# Read the Excel file into a DataFrame\n",
    "df_cpt = pd.read_excel(file_path, sheet_name=sheet_name, dtype={'Procedure Code': str, 'Description': str})\n"
   ]
  },
  {
   "cell_type": "code",
   "execution_count": 4,
   "metadata": {},
   "outputs": [
    {
     "data": {
      "text/html": [
       "<div>\n",
       "<style scoped>\n",
       "    .dataframe tbody tr th:only-of-type {\n",
       "        vertical-align: middle;\n",
       "    }\n",
       "\n",
       "    .dataframe tbody tr th {\n",
       "        vertical-align: top;\n",
       "    }\n",
       "\n",
       "    .dataframe thead th {\n",
       "        text-align: right;\n",
       "    }\n",
       "</style>\n",
       "<table border=\"1\" class=\"dataframe\">\n",
       "  <thead>\n",
       "    <tr style=\"text-align: right;\">\n",
       "      <th></th>\n",
       "      <th>Procedure Code</th>\n",
       "      <th>Description</th>\n",
       "    </tr>\n",
       "  </thead>\n",
       "  <tbody>\n",
       "    <tr>\n",
       "      <th>0</th>\n",
       "      <td>95004</td>\n",
       "      <td>Percut allergy s</td>\n",
       "    </tr>\n",
       "    <tr>\n",
       "      <th>1</th>\n",
       "      <td>95010</td>\n",
       "      <td>PERCUT ALLERGY T</td>\n",
       "    </tr>\n",
       "    <tr>\n",
       "      <th>2</th>\n",
       "      <td>95012</td>\n",
       "      <td>Exhaled nitric o</td>\n",
       "    </tr>\n",
       "    <tr>\n",
       "      <th>3</th>\n",
       "      <td>95015</td>\n",
       "      <td>ID ALLERGY TITRA</td>\n",
       "    </tr>\n",
       "    <tr>\n",
       "      <th>4</th>\n",
       "      <td>95017</td>\n",
       "      <td>Perq &amp; icut allg</td>\n",
       "    </tr>\n",
       "  </tbody>\n",
       "</table>\n",
       "</div>"
      ],
      "text/plain": [
       "  Procedure Code       Description\n",
       "0          95004  Percut allergy s\n",
       "1          95010  PERCUT ALLERGY T\n",
       "2          95012  Exhaled nitric o\n",
       "3          95015  ID ALLERGY TITRA\n",
       "4          95017  Perq & icut allg"
      ]
     },
     "execution_count": 4,
     "metadata": {},
     "output_type": "execute_result"
    }
   ],
   "source": [
    "df_cpt.head()"
   ]
  },
  {
   "cell_type": "markdown",
   "metadata": {},
   "source": [
    "### Hospital Name extraction"
   ]
  },
  {
   "cell_type": "code",
   "execution_count": 5,
   "metadata": {},
   "outputs": [],
   "source": [
    "my_path = r'R000548 - R000550 M. Gutierrez_EMG Center Of Houston_Billing.pdf'\n",
    "doc = fitz.open(my_path)"
   ]
  },
  {
   "cell_type": "code",
   "execution_count": 6,
   "metadata": {},
   "outputs": [
    {
     "name": "stdout",
     "output_type": "stream",
     "text": [
      "      PERTAIN TO :    Mario Alberto Gutierrez\n",
      "\n",
      "         FROM :  EMG Center of Houston\n",
      "                          P.o. Box 540905\n",
      "                   HOUSTON, TEXAS 77254\n",
      "\n",
      "\n",
      "\n",
      "        PHONE :    (713) 622-7744          FAX :   (832) 202-2728\n",
      "\n",
      "   RECORD TYPE :     Billing\n",
      "\n",
      "\n",
      "      DELIVER TO :    Trent Shelton\n",
      "\n",
      "                 ARNOLD & ITKIN, LLP\n",
      "                      6009 MEMORIAL DRIVE\n",
      "                  HOUSTON, TEXAS 77007\n",
      "\n",
      "\n",
      "        PHONE :    (713) 222-3800          FAX :   (713) 222-3850\n",
      "\n",
      "\n",
      "\n",
      "\n",
      "\n",
      "Order No : 225590-1-22\n",
      "\n",
      "                                                 MARIO GUTIERREZ\n",
      "                                                                R000548\n"
     ]
    }
   ],
   "source": [
    "page = doc[0]\n",
    "all_infos = page.get_text(sort=True)\n",
    "print(all_infos)"
   ]
  },
  {
   "cell_type": "code",
   "execution_count": 7,
   "metadata": {},
   "outputs": [],
   "source": [
    "def extract_hospital_name(text):\n",
    "\n",
    "    match = re.search(r\"FROM\\s*:\\s*([^\\n]+)\", text)\n",
    "    if match:\n",
    "        return match.group(1).strip() \n",
    "    return \"Unknown Hospital\""
   ]
  },
  {
   "cell_type": "code",
   "execution_count": 8,
   "metadata": {},
   "outputs": [
    {
     "data": {
      "text/plain": [
       "'EMG Center of Houston'"
      ]
     },
     "execution_count": 8,
     "metadata": {},
     "output_type": "execute_result"
    }
   ],
   "source": [
    "extract_hospital_name(all_infos)"
   ]
  },
  {
   "cell_type": "markdown",
   "metadata": {},
   "source": [
    "### Hospital Billing Extraction"
   ]
  },
  {
   "cell_type": "code",
   "execution_count": 9,
   "metadata": {},
   "outputs": [
    {
     "name": "stdout",
     "output_type": "stream",
     "text": [
      "                                  EMG Center of Houston\n",
      "                                    Itemization of Charges\n",
      "\n",
      "\n",
      "\n",
      "\n",
      "Clinic:          EMG Center of Houston\n",
      "\n",
      "Address:            4151 Southwest FWY                       Insurance #1:          Self Pay-Non Ins\n",
      "                    410                                                        4151 Southwest Fwy Ste 410\n",
      "                      Houston, TX 770277320                                            Houston, TX 770277320\n",
      "\n",
      "\n",
      "Phone:                (713) 622-7744                               Adjuster:\n",
      "\n",
      "Tax ID:              463385579                            Group Number\n",
      "\n",
      "WCAB:                                                           Policy Number:      24560\n",
      "\n",
      "\n",
      "Employer:                                                     Insurance #2:\n",
      "\n",
      "Patient #:           4090                                        Adjuster:\n",
      "\n",
      "Patient:           MARIO GUTIERREZ                     Group Number:\n",
      "\n",
      "Date of Injury:        06/26/2023                                  Policy Number:\n",
      "\n",
      "\n",
      "\n",
      "           Service\n",
      "Visit #     Date           Procedure Description       Code        Charges       Adjust     Payments       Balance\n",
      "4180       04/19/2024        Needle measurement of elec...         95861        1,300.00            -             -      1,300.00\n",
      "\n",
      "4180       04/19/2024        Needle measurement of elec...         95886        1,100.00            -             -      1,100.00\n",
      "\n",
      "4180       04/19/2024        Nerve conduction, 11-12 st...           95912          950.00            -             -        950.00\n",
      "\n",
      "4180       04/19/2024       OFFICE OR OTHER OUTPATIENT...     99203          375.00            -             -        375.00\n",
      "\n",
      "4180       04/19/2024          Sterile needle                    A4215          100.00            -             -        100.00\n",
      "\n",
      "4180       04/19/2024        Conductive gel or paste              A4558           50.00            -             -         50.00\n",
      "\n",
      "4181       04/19/2024        Needle measurement of elec...         95861        1,300.00            -             -      1,300.00\n",
      "\n",
      "4181       04/19/2024        Needle measurement of elec...         95886        1,100.00            -             -      1,100.00\n",
      "\n",
      "4181       04/19/2024        Nerve conduction, 7-8 stud...           95910          950.00            -             -        950.00\n",
      "\n",
      "4181       04/19/2024          Sterile needle                    A4215          100.00            -             -        100.00\n",
      "\n",
      "4181       04/19/2024         Electrodes, pair                   A4556           75.00            -             -         75.00\n",
      "\n",
      "4181       04/19/2024        Conductive gel or paste              A4558           50.00            -             -         50.00\n",
      "\n",
      "TOTALS                                                                  7,450.00                   -                     -\n",
      "\n",
      "                                                                     BALANCE DUE       7,450.00\n",
      "\n",
      "\n",
      "\n",
      "\n",
      "\n",
      "                                                                                                                     Page 1 of 1\n",
      "\n",
      "                                                                                                 0001\n",
      "                                                               MARIO GUTIERREZ\n",
      "                                                                                R000550\n"
     ]
    }
   ],
   "source": [
    "page = doc[2]\n",
    "all_infos = page.get_text(sort=True)\n",
    "print(all_infos)"
   ]
  },
  {
   "cell_type": "code",
   "execution_count": 32,
   "metadata": {},
   "outputs": [],
   "source": [
    "# Regular expression pattern to match the relevant billing data\n",
    "pattern = r'(\\d{4})\\s+(\\d{2}/\\d{2}/\\d{4})\\s+(.+?)\\s+([A-Z0-9]+)\\s+([\\d,]+\\.\\d{2})'\n",
    "# Find all matches in the text\n",
    "matches = re.findall(pattern, all_infos)"
   ]
  },
  {
   "cell_type": "code",
   "execution_count": 33,
   "metadata": {},
   "outputs": [
    {
     "data": {
      "text/plain": [
       "[('4180', '04/19/2024', 'Needle measurement of elec...', '95861', '1,300.00'),\n",
       " ('4180', '04/19/2024', 'Needle measurement of elec...', '95886', '1,100.00'),\n",
       " ('4180', '04/19/2024', 'Nerve conduction, 11-12 st...', '95912', '950.00'),\n",
       " ('4180', '04/19/2024', 'OFFICE OR OTHER OUTPATIENT...', '99203', '375.00'),\n",
       " ('4180', '04/19/2024', 'Sterile needle', 'A4215', '100.00'),\n",
       " ('4180', '04/19/2024', 'Conductive gel or paste', 'A4558', '50.00'),\n",
       " ('4181', '04/19/2024', 'Needle measurement of elec...', '95861', '1,300.00'),\n",
       " ('4181', '04/19/2024', 'Needle measurement of elec...', '95886', '1,100.00'),\n",
       " ('4181', '04/19/2024', 'Nerve conduction, 7-8 stud...', '95910', '950.00'),\n",
       " ('4181', '04/19/2024', 'Sterile needle', 'A4215', '100.00'),\n",
       " ('4181', '04/19/2024', 'Electrodes, pair', 'A4556', '75.00'),\n",
       " ('4181', '04/19/2024', 'Conductive gel or paste', 'A4558', '50.00')]"
      ]
     },
     "execution_count": 33,
     "metadata": {},
     "output_type": "execute_result"
    }
   ],
   "source": [
    "matches"
   ]
  },
  {
   "cell_type": "code",
   "execution_count": 10,
   "metadata": {},
   "outputs": [],
   "source": [
    "def extract_billing_info_pdf(file_path):\n",
    "    # Open the PDF file\n",
    "    doc = fitz.open(file_path)\n",
    "    billing_records = []\n",
    "\n",
    "    # Extract hospital name from first page\n",
    "    \n",
    "    first_page_text = doc[0].get_text(sort=True)\n",
    "    hospital_name = extract_hospital_name(first_page_text)\n",
    "    \n",
    "    # Loop through each page of the PDF\n",
    "    for page in doc:\n",
    "        # Extract the text from the page\n",
    "        all_medicine = page.get_text(sort=True)\n",
    "        \n",
    "        # Regular expression pattern to match the relevant billing data\n",
    "        pattern = r'(\\d{4})\\s+(\\d{2}/\\d{2}/\\d{4})\\s+(.+?)\\s+([A-Z0-9]+)\\s+([\\d,]+\\.\\d{2})'\n",
    "        # Find all matches in the text\n",
    "        matches = re.findall(pattern, all_medicine)\n",
    "\n",
    "        # Loop through each match and create a record\n",
    "        for match in matches:\n",
    "            record = {\n",
    "                \"Hospital\": hospital_name,  # Add hospital name here\n",
    "                \"Date\": datetime.strptime(match[1], '%m/%d/%Y'),  # Convert to datetime object\n",
    "                \"CPT\": str(match[3]),  # Convert to string\n",
    "                \"Extracted_Description\": str(match[2].strip()),  # Convert to string and strip any extra whitespace\n",
    "                \"Charges\": float(match[4].replace(',', ''))  # Remove commas and convert to float\n",
    "            }\n",
    "            billing_records.append(record)  # Append each record to the list\n",
    "\n",
    "    # Create a DataFrame from the list of records\n",
    "    df_billing_records = pd.DataFrame(billing_records)\n",
    "\n",
    "    return df_billing_records  # Return the DataFrame"
   ]
  },
  {
   "cell_type": "code",
   "execution_count": 11,
   "metadata": {},
   "outputs": [],
   "source": [
    "df_extracted = extract_billing_info_pdf(my_path)"
   ]
  },
  {
   "cell_type": "code",
   "execution_count": 12,
   "metadata": {},
   "outputs": [
    {
     "data": {
      "text/plain": [
       "Index(['Procedure Code', 'Description'], dtype='object')"
      ]
     },
     "execution_count": 12,
     "metadata": {},
     "output_type": "execute_result"
    }
   ],
   "source": [
    "df_cpt.columns"
   ]
  },
  {
   "cell_type": "code",
   "execution_count": 13,
   "metadata": {},
   "outputs": [
    {
     "data": {
      "text/html": [
       "<div>\n",
       "<style scoped>\n",
       "    .dataframe tbody tr th:only-of-type {\n",
       "        vertical-align: middle;\n",
       "    }\n",
       "\n",
       "    .dataframe tbody tr th {\n",
       "        vertical-align: top;\n",
       "    }\n",
       "\n",
       "    .dataframe thead th {\n",
       "        text-align: right;\n",
       "    }\n",
       "</style>\n",
       "<table border=\"1\" class=\"dataframe\">\n",
       "  <thead>\n",
       "    <tr style=\"text-align: right;\">\n",
       "      <th></th>\n",
       "      <th>Hospital</th>\n",
       "      <th>Date</th>\n",
       "      <th>CPT</th>\n",
       "      <th>Extracted_Description</th>\n",
       "      <th>Charges</th>\n",
       "      <th>Provided_Description</th>\n",
       "    </tr>\n",
       "  </thead>\n",
       "  <tbody>\n",
       "    <tr>\n",
       "      <th>0</th>\n",
       "      <td>EMG Center of Houston</td>\n",
       "      <td>2024-04-19</td>\n",
       "      <td>95861</td>\n",
       "      <td>Needle measurement of elec...</td>\n",
       "      <td>1300.0</td>\n",
       "      <td>Muscle test 2 li</td>\n",
       "    </tr>\n",
       "    <tr>\n",
       "      <th>1</th>\n",
       "      <td>EMG Center of Houston</td>\n",
       "      <td>2024-04-19</td>\n",
       "      <td>95886</td>\n",
       "      <td>Needle measurement of elec...</td>\n",
       "      <td>1100.0</td>\n",
       "      <td>Musc test w/n</td>\n",
       "    </tr>\n",
       "    <tr>\n",
       "      <th>2</th>\n",
       "      <td>EMG Center of Houston</td>\n",
       "      <td>2024-04-19</td>\n",
       "      <td>95912</td>\n",
       "      <td>Nerve conduction, 11-12 st...</td>\n",
       "      <td>950.0</td>\n",
       "      <td>Nrv cndj test 11</td>\n",
       "    </tr>\n",
       "    <tr>\n",
       "      <th>3</th>\n",
       "      <td>EMG Center of Houston</td>\n",
       "      <td>2024-04-19</td>\n",
       "      <td>99203</td>\n",
       "      <td>OFFICE OR OTHER OUTPATIENT...</td>\n",
       "      <td>375.0</td>\n",
       "      <td>Office Visit</td>\n",
       "    </tr>\n",
       "    <tr>\n",
       "      <th>4</th>\n",
       "      <td>EMG Center of Houston</td>\n",
       "      <td>2024-04-19</td>\n",
       "      <td>A4215</td>\n",
       "      <td>Sterile needle</td>\n",
       "      <td>100.0</td>\n",
       "      <td>Needle, sterile</td>\n",
       "    </tr>\n",
       "  </tbody>\n",
       "</table>\n",
       "</div>"
      ],
      "text/plain": [
       "                Hospital       Date    CPT          Extracted_Description  \\\n",
       "0  EMG Center of Houston 2024-04-19  95861  Needle measurement of elec...   \n",
       "1  EMG Center of Houston 2024-04-19  95886  Needle measurement of elec...   \n",
       "2  EMG Center of Houston 2024-04-19  95912  Nerve conduction, 11-12 st...   \n",
       "3  EMG Center of Houston 2024-04-19  99203  OFFICE OR OTHER OUTPATIENT...   \n",
       "4  EMG Center of Houston 2024-04-19  A4215                 Sterile needle   \n",
       "\n",
       "   Charges Provided_Description  \n",
       "0   1300.0     Muscle test 2 li  \n",
       "1   1100.0       Musc test w/n   \n",
       "2    950.0     Nrv cndj test 11  \n",
       "3    375.0         Office Visit  \n",
       "4    100.0      Needle, sterile  "
      ]
     },
     "execution_count": 13,
     "metadata": {},
     "output_type": "execute_result"
    }
   ],
   "source": [
    "# Matching columns CPT with Procedure Code\n",
    "\n",
    "\n",
    "final_data = pd.merge(df_extracted,df_cpt,left_on='CPT', right_on='Procedure Code', how='left')\n",
    "final_data.drop(columns=['Procedure Code'], inplace=True)\n",
    "final_data.rename(columns={'Description': 'Provided_Description'}, inplace=True)\n",
    "final_data.head()"
   ]
  },
  {
   "cell_type": "code",
   "execution_count": 14,
   "metadata": {},
   "outputs": [
    {
     "data": {
      "text/plain": [
       "7450.0"
      ]
     },
     "execution_count": 14,
     "metadata": {},
     "output_type": "execute_result"
    }
   ],
   "source": [
    "# Biling Charges Matching\n",
    "\n",
    "final_data['Charges'].sum()"
   ]
  },
  {
   "cell_type": "markdown",
   "metadata": {},
   "source": [
    "### Convert to CSV"
   ]
  },
  {
   "cell_type": "code",
   "execution_count": 15,
   "metadata": {},
   "outputs": [],
   "source": [
    "# final_data.to_csv('R000548- R000550.csv')"
   ]
  },
  {
   "cell_type": "code",
   "execution_count": null,
   "metadata": {},
   "outputs": [],
   "source": []
  }
 ],
 "metadata": {
  "kernelspec": {
   "display_name": "Python 3 (ipykernel)",
   "language": "python",
   "name": "python3"
  },
  "language_info": {
   "codemirror_mode": {
    "name": "ipython",
    "version": 3
   },
   "file_extension": ".py",
   "mimetype": "text/x-python",
   "name": "python",
   "nbconvert_exporter": "python",
   "pygments_lexer": "ipython3",
   "version": "3.10.9"
  }
 },
 "nbformat": 4,
 "nbformat_minor": 4
}
